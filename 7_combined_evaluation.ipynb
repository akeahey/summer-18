{
 "cells": [
  {
   "cell_type": "markdown",
   "metadata": {},
   "source": [
    "# Combined_Evaluation\n",
    "\n",
    "This notebook finds polymer:acronym pairs from documents in a database. These pairs are then used to augment a list of polymer candidates found and then evaluate those candidates against a groundtruth list of polymers."
   ]
  },
  {
   "cell_type": "code",
   "execution_count": 1,
   "metadata": {},
   "outputs": [],
   "source": [
    "# -*- coding: utf-8 -*-\n",
    "import os\n",
    "import re\n",
    "import csv\n",
    "import sys\n",
    "import glob\n",
    "import errno\n",
    "import random\n",
    "import sqlite3\n",
    "import subprocess\n",
    "import pandas as pd\n",
    "import pymysql.cursors\n",
    "import gensim, logging\n",
    "from __future__ import division\n",
    "import matplotlib.pyplot as plt\n",
    "from gensim.models import FastText\n",
    "from gensim.models import Word2Vec\n",
    "from gensim.models import KeyedVectors\n",
    "from abbreviations import get_abbreviations\n",
    "\n",
    "# Avoid ascii error\n",
    "reload(sys)\n",
    "sys.setdefaultencoding('utf8')"
   ]
  },
  {
   "cell_type": "markdown",
   "metadata": {},
   "source": [
    "Create connection to database "
   ]
  },
  {
   "cell_type": "code",
   "execution_count": 2,
   "metadata": {},
   "outputs": [],
   "source": [
    "# Connect to db\n",
    "def connect_to_db():\n",
    "    database = \"db/sentences.db\"\n",
    "    conn = create_connection(database)\n",
    "    return conn"
   ]
  },
  {
   "cell_type": "code",
   "execution_count": 3,
   "metadata": {},
   "outputs": [],
   "source": [
    "# Connect to DB\n",
    "def create_connection(db_file):\n",
    "    try:\n",
    "        conn = sqlite3.connect(db_file)\n",
    "        return conn\n",
    "    except Error as e:\n",
    "        print(e)\n",
    " \n",
    "    return None"
   ]
  },
  {
   "cell_type": "markdown",
   "metadata": {},
   "source": [
    "Sentences are retrieved from database documents and placed in a list"
   ]
  },
  {
   "cell_type": "code",
   "execution_count": 4,
   "metadata": {},
   "outputs": [],
   "source": [
    "def get_sentences_for_dois(doi,conn):\n",
    "    sentences = []\n",
    "    cur = conn.cursor()\n",
    "    query = \"select sentence from sentences where docid='%s'\" % (doi)\n",
    "    cur.execute(query)\n",
    "    rows = cur.fetchall()\n",
    "    for row in rows:\n",
    "        sentences.append(row[0].rstrip(\".\"))\n",
    "\n",
    "    return sentences"
   ]
  },
  {
   "cell_type": "code",
   "execution_count": 5,
   "metadata": {},
   "outputs": [],
   "source": [
    "def get_polymers(doi_input_file, entire_document):\n",
    "\n",
    "    f = open(doi_input_file,'rb')\n",
    "    lines = f.readlines()\n",
    "    print('Processing %d documents as listed in %s' % (len(lines), doi_input_file))\n",
    "    sentences2 = []\n",
    "    connection = connect_to_db()\n",
    "    \n",
    "    # Process line in prediction file\n",
    "    for line in lines:\n",
    "\n",
    "        # Read the doi\n",
    "        doi = line.split(\"\\t\")[0].strip(\"\\n\")\n",
    "         \n",
    "        if entire_document == 1:\n",
    "            sentences = get_sentences_for_dois(doi,connection)\n",
    "            \n",
    "        for sentence in sentences: \n",
    "            sentences2.append(sentence)\n",
    "\n",
    "    return sentences2"
   ]
  },
  {
   "cell_type": "code",
   "execution_count": 6,
   "metadata": {},
   "outputs": [],
   "source": [
    "#get sentences from documents\n",
    "sentences_list = get_polymers('data/classifier_dois.txt', 1)"
   ]
  },
  {
   "cell_type": "markdown",
   "metadata": {},
   "source": [
    "Acronym:Longname pairs are found from the database sentences using get_abbreviations and placed into a dictionary"
   ]
  },
  {
   "cell_type": "code",
   "execution_count": 7,
   "metadata": {},
   "outputs": [],
   "source": [
    "#get dictionary of abbreviations:polymers\n",
    "abbrs = get_abbreviations(sentences_list)"
   ]
  },
  {
   "cell_type": "markdown",
   "metadata": {},
   "source": [
    "A list of found polymer candidates (polymer_candidates.txt) is augmented by any matching acronyms found in the previous step and the augmented list is rewritten. For example: \n",
    "- If polystyrene is in the list of polymer candidates, the found acronym PS and polystyrene are _both_ added to the new list of polymer candidates"
   ]
  },
  {
   "cell_type": "code",
   "execution_count": 8,
   "metadata": {},
   "outputs": [],
   "source": [
    "#open file of polymer candidates/create new file\n",
    "\n",
    "f = open('output/amber_second_candidates.txt','w+')"
   ]
  },
  {
   "cell_type": "code",
   "execution_count": 9,
   "metadata": {},
   "outputs": [],
   "source": [
    "def cleanup_poly(pl):\n",
    "    new_pl = pl.strip().strip(',').strip('.')\n",
    "    if len(new_pl)>=2 and new_pl[0] == '(' and new_pl[len(new_pl)-1]==')':\n",
    "        new_pl=new_pl.rstrip(')').lstrip('(')\n",
    "    return new_pl"
   ]
  },
  {
   "cell_type": "code",
   "execution_count": 10,
   "metadata": {},
   "outputs": [],
   "source": [
    "def read_items(ifile):\n",
    "    items = []\n",
    "    f = open(ifile)\n",
    "    lines = f.readlines()\n",
    "    for line in lines:\n",
    "        poly = cleanup_poly(line.strip(\"\\n\"))\n",
    "        upoly = u'%s' % (poly)\n",
    "        items.append(upoly)\n",
    "    return items"
   ]
  },
  {
   "cell_type": "code",
   "execution_count": 11,
   "metadata": {},
   "outputs": [],
   "source": [
    "# separate candidates combined by /, :, or –\n",
    "\n",
    "def split (jfile):\n",
    "    \n",
    "    candidate_polymers = read_items(jfile)\n",
    "    \n",
    "    candidate_polymers_2 = []\n",
    "    for string in candidate_polymers:\n",
    "        if \":\" in string: \n",
    "            x = string.split(\":\")\n",
    "            for string in x:\n",
    "                line_string = '%s\\n' % (string.strip())\n",
    "                candidate_polymers_2.append(line_string)\n",
    "        if \"/\" in string: \n",
    "            y = string.split(\"/\")\n",
    "            for string in y:\n",
    "                line_string = '%s\\n' % (string.strip())\n",
    "                candidate_polymers_2.append(line_string)\n",
    "        if \"–\" in string: \n",
    "            z = string.split(\"–\")\n",
    "            for string in z:\n",
    "                line_string = '%s\\n' % (string.strip())\n",
    "                candidate_polymers_2.append(line_string)\n",
    "        \n",
    "        \n",
    "    joined_list = ''.join(candidate_polymers_2)\n",
    "    \n",
    "    for line in joined_list: \n",
    "        if line not in candidate_polymers: \n",
    "            candidate_polymers.append(line)\n",
    "\n",
    "    return candidate_polymers"
   ]
  },
  {
   "cell_type": "code",
   "execution_count": 12,
   "metadata": {},
   "outputs": [],
   "source": [
    "#format candidates\n",
    "\n",
    "candidates_list = split('input/polymer_candidates.txt')\n",
    "\n",
    "\n",
    "formatted_strings = list()\n",
    "for string in candidates_list: \n",
    "    plain_string = string.rstrip('\\n')  \n",
    "    if \"[u'\" in plain_string: \n",
    "        plain_string = plain_string.replace(\"[u'\",\"\")\n",
    "        plain_string = plain_string.replace(\"']\",\"\")\n",
    "    else: \n",
    "        pass\n",
    "    \n",
    "    unicode_string = plain_string.decode('utf8')\n",
    "    formatted_strings.append(unicode_string)"
   ]
  },
  {
   "cell_type": "code",
   "execution_count": 13,
   "metadata": {},
   "outputs": [],
   "source": [
    "#find and record matching pairs\n",
    "\n",
    "for string in formatted_strings:\n",
    "    f.write('%s\\n' % (string))\n",
    "    for key in abbrs: \n",
    "        if string in abbrs[key]:\n",
    "            line_acronym = '%s\\n' % (key)\n",
    "            f.write(line_acronym)\n",
    "        if string in key: \n",
    "            mod = ''.join(abbrs[key])\n",
    "            line_polymer = '%s\\n' % (mod)\n",
    "            f.write(line_polymer)"
   ]
  },
  {
   "cell_type": "code",
   "execution_count": 14,
   "metadata": {},
   "outputs": [],
   "source": [
    "#close file\n",
    "f.close()"
   ]
  },
  {
   "cell_type": "markdown",
   "metadata": {},
   "source": [
    "Evaluate augmented candidates found against groundtruth polymers from documents in the database"
   ]
  },
  {
   "cell_type": "code",
   "execution_count": 15,
   "metadata": {},
   "outputs": [],
   "source": [
    "def read_items(ifile):\n",
    "    items = []\n",
    "    f = open(ifile)\n",
    "    lines = f.readlines()\n",
    "    for line in lines:\n",
    "        poly = cleanup_poly(line.strip(\"\\n\"))\n",
    "        upoly = u'%s' % (poly)\n",
    "        items.append(upoly)\n",
    "    return items"
   ]
  },
  {
   "cell_type": "code",
   "execution_count": 16,
   "metadata": {},
   "outputs": [],
   "source": [
    "def evaluate (candidate_file, groundtruth_file, n):\n",
    "    \n",
    "    candidate_polymers = read_items(candidate_file)\n",
    "    extracted_polymers = read_items(groundtruth_file)\n",
    "    \n",
    "    print (len(candidate_polymers))\n",
    "    print (len(extracted_polymers))\n",
    "    \n",
    "    candidate_polymers = candidate_polymers[0:n]\n",
    "    \n",
    "    print 'keywords:', len(candidate_polymers)\n",
    "\n",
    "    groundtruth_polymers = [x.strip().lower() for x in extracted_polymers]\n",
    "    groundtruth_polymers = list(set(groundtruth_polymers))\n",
    "    print \"Number of polymer names in the dictionary: \", len(groundtruth_polymers)\n",
    "\n",
    "    candidate_polymers = [x.strip().lower() for x in candidate_polymers]\n",
    "    candidate_polymers = list(set(candidate_polymers))\n",
    "    print \"Number of candidate polymers in this file: \", (len(candidate_polymers))\n",
    "    \n",
    "    # Perform evaluation (compute truth positives, false positives and false negatives)\n",
    "    TP = 0\n",
    "    FP = 0\n",
    "    for candidate in candidate_polymers:\n",
    "        if candidate in groundtruth_polymers:\n",
    "            TP = TP + 1\n",
    "        else:\n",
    "            FP = FP + 1\n",
    "\n",
    "    precision = (TP/(TP+FP)*100)\n",
    "\n",
    "    FN = 0\n",
    "    for poly in groundtruth_polymers:\n",
    "        if poly not in candidate_polymers:\n",
    "            FN = FN + 1\n",
    "\n",
    "    recall = (TP/(TP+FN)*100)\n",
    "\n",
    "    print \"True pos: \", TP\n",
    "    print \"False pos: \", FP\n",
    "    print \"Precision: \", precision\n",
    "    print \"Recall: \", recall"
   ]
  },
  {
   "cell_type": "markdown",
   "metadata": {},
   "source": [
    "The number of keywords used in the evaluation can be controlled by changing n- which has a maximum of 322 when using input/scraped_polymer_names.txt"
   ]
  },
  {
   "cell_type": "code",
   "execution_count": 17,
   "metadata": {},
   "outputs": [],
   "source": [
    "#evaluate where n = number of keywords to evaluate with from candidate file\n",
    "evaluate('input/scraped_polymer_names.txt', 'evaluation/ground_truth_list_format.txt', n = 322)"
   ]
  },
  {
   "cell_type": "markdown",
   "metadata": {},
   "source": [
    "### Graphing\n",
    "\n",
    "Two graphs are produced, one which demonstrates how recall and precision change over number of keywords (Fig. 1) and the other two demonstrating the distribution of recall (Fig. 2) and precision (Fig. 3)"
   ]
  },
  {
   "cell_type": "code",
   "execution_count": 18,
   "metadata": {},
   "outputs": [],
   "source": [
    "# function returns precision of the two lists\n",
    "def precision (list1, list2, N):\n",
    "    \n",
    "    TP = 0\n",
    "    FP = 0\n",
    "    limited_list = list1[:N]\n",
    "    for candidate in limited_list:\n",
    "        if candidate in list2:\n",
    "            TP = TP + 1\n",
    "        else:\n",
    "            FP = FP + 1\n",
    "\n",
    "    precision = (TP/(TP+FP)*100)\n",
    "        \n",
    "    precision = int(precision)\n",
    "        \n",
    "    return precision"
   ]
  },
  {
   "cell_type": "code",
   "execution_count": 19,
   "metadata": {},
   "outputs": [],
   "source": [
    "# function returns recall of the two lists\n",
    "def recall (list1, list2, N):\n",
    "    \n",
    "    TP = 0\n",
    "    FP = 0\n",
    "    limited_list = list1[:N]\n",
    "    for candidate in limited_list:\n",
    "        if candidate in list2:\n",
    "            TP = TP + 1\n",
    "        else:\n",
    "            FP = FP + 1\n",
    "\n",
    "    FN = 0\n",
    "    for poly in list2:\n",
    "        if poly not in list1:\n",
    "            FN = FN + 1\n",
    "\n",
    "    recall = (TP/(TP+FN)*100)\n",
    "    \n",
    "    recall = int(recall)\n",
    "        \n",
    "    return recall"
   ]
  },
  {
   "cell_type": "code",
   "execution_count": 20,
   "metadata": {},
   "outputs": [],
   "source": [
    "# function counts number of keywords in the input file\n",
    "def values (filename): \n",
    "    \n",
    "    candidate_polymers = read_items(filename)\n",
    "    \n",
    "    N = 0\n",
    "    values = list()\n",
    "    \n",
    "    for string in candidate_polymers:\n",
    "        N = N+1\n",
    "        values.append(N)\n",
    "        \n",
    "    return values"
   ]
  },
  {
   "cell_type": "code",
   "execution_count": 21,
   "metadata": {},
   "outputs": [],
   "source": [
    "def plot_evaluation(candidate_file, groundtruth_file):\n",
    "    \n",
    "    candidate_polymers = read_items(candidate_file)\n",
    "    extracted_polymers = read_items(groundtruth_file)\n",
    "\n",
    "    groundtruth_polymers = [x.strip().lower() for x in extracted_polymers]\n",
    "    groundtruth_polymers = list(set(groundtruth_polymers))\n",
    "\n",
    "    candidate_polymers = [x.strip().lower() for x in candidate_polymers]\n",
    "    candidate_polymers = list(set(candidate_polymers))    \n",
    "        \n",
    "    plt.ylabel('percentage')\n",
    "    plt.xlabel('# of keywords')\n",
    "    \n",
    "    values_ = values(candidate_file)\n",
    "    \n",
    "    precisions_ = list()\n",
    "    \n",
    "    recalls_ = list()\n",
    "    \n",
    "    for item in values_:\n",
    "        \n",
    "        N = item\n",
    "        \n",
    "        #precision curve\n",
    "        precision_ = precision(candidate_polymers, groundtruth_polymers, N)\n",
    "        precisions_.append(precision_)\n",
    "\n",
    "\n",
    "        #recall curve\n",
    "        recall_ = recall(candidate_polymers, groundtruth_polymers, N)\n",
    "        recalls_.append(recall_)\n",
    "        \n",
    "    \n",
    "    plt.plot(values_, precisions_, 'or-')\n",
    "    plt.plot(values_, recalls_, 'ob-')\n",
    "    \n",
    "    plt.show()\n",
    "    "
   ]
  },
  {
   "cell_type": "markdown",
   "metadata": {},
   "source": [
    "### Fig. 1"
   ]
  },
  {
   "cell_type": "code",
   "execution_count": 22,
   "metadata": {
    "scrolled": true
   },
   "outputs": [
    {
     "data": {
      "image/png": "[encoded data removed]",
      "text/plain": [
       "<Figure size 432x288 with 1 Axes>"
      ]
     },
     "metadata": {},
     "output_type": "display_data"
    }
   ],
   "source": [
    "plot_evaluation('input/scraped_polymer_names.txt', 'evaluation/ground_truth_list_format.txt')"
   ]
  },
  {
   "cell_type": "code",
   "execution_count": 31,
   "metadata": {},
   "outputs": [],
   "source": [
    "#histogram \n",
    "\n",
    "def histogram_evaluation_recall(candidate_file, groundtruth_file):\n",
    "    \n",
    "    candidate_polymers = read_items(candidate_file)\n",
    "    extracted_polymers = read_items(groundtruth_file)\n",
    "\n",
    "    groundtruth_polymers = [x.strip().lower() for x in extracted_polymers]\n",
    "    groundtruth_polymers = list(set(groundtruth_polymers))\n",
    "\n",
    "    candidate_polymers = [x.strip().lower() for x in candidate_polymers]\n",
    "    candidate_polymers = list(set(candidate_polymers))    \n",
    "        \n",
    "    plt.ylabel('probability')\n",
    "    plt.xlabel('Recall')\n",
    "    \n",
    "    values_ = values(candidate_file)\n",
    "    \n",
    "    recalls_ = list()\n",
    "    \n",
    "    for item in values_:\n",
    "        \n",
    "        N = item\n",
    "\n",
    "        #recall curve\n",
    "        recall_ = recall(candidate_polymers, groundtruth_polymers, N)\n",
    "        recalls_.append(recall_)\n",
    "        \n",
    "    plt.hist(recalls_, facecolor='red')\n",
    "    \n",
    "    plt.show()\n"
   ]
  },
  {
   "cell_type": "markdown",
   "metadata": {},
   "source": [
    "### Fig. 2"
   ]
  },
  {
   "cell_type": "code",
   "execution_count": 32,
   "metadata": {
    "scrolled": true
   },
   "outputs": [
    {
     "data": {
      "image/png": "[encoded data removed]",
      "text/plain": [
       "<Figure size 432x288 with 1 Axes>"
      ]
     },
     "metadata": {},
     "output_type": "display_data"
    }
   ],
   "source": [
    "histogram_evaluation_recall('input/scraped_polymer_names.txt', 'evaluation/ground_truth_list_format.txt')"
   ]
  },
  {
   "cell_type": "code",
   "execution_count": 35,
   "metadata": {},
   "outputs": [],
   "source": [
    "#histogram \n",
    "\n",
    "def histogram_evaluation_precision(candidate_file, groundtruth_file):\n",
    "    \n",
    "    candidate_polymers = read_items(candidate_file)\n",
    "    extracted_polymers = read_items(groundtruth_file)\n",
    "\n",
    "    groundtruth_polymers = [x.strip().lower() for x in extracted_polymers]\n",
    "    groundtruth_polymers = list(set(groundtruth_polymers))\n",
    "\n",
    "    candidate_polymers = [x.strip().lower() for x in candidate_polymers]\n",
    "    candidate_polymers = list(set(candidate_polymers))    \n",
    "        \n",
    "    plt.ylabel('probability')\n",
    "    plt.xlabel('Precision')\n",
    "    \n",
    "    values_ = values(candidate_file)\n",
    "    \n",
    "    precisions_ = list()\n",
    "    \n",
    "    for item in values_:\n",
    "        \n",
    "        N = item\n",
    "        \n",
    "        #precision curve\n",
    "        precision_ = precision(candidate_polymers, groundtruth_polymers, N)\n",
    "        precisions_.append(precision_)\n",
    "        \n",
    "    plt.hist(precisions_, facecolor='blue')\n",
    "    \n",
    "    plt.show()\n"
   ]
  },
  {
   "cell_type": "markdown",
   "metadata": {},
   "source": [
    "### Fig. 3"
   ]
  },
  {
   "cell_type": "code",
   "execution_count": 36,
   "metadata": {
    "scrolled": true
   },
   "outputs": [
    {
     "data": {
      "image/png": "[encoded data removed]",
      "text/plain": [
       "<Figure size 432x288 with 1 Axes>"
      ]
     },
     "metadata": {},
     "output_type": "display_data"
    }
   ],
   "source": [
    "histogram_evaluation_precision('input/scraped_polymer_names.txt', 'evaluation/ground_truth_list_format.txt')"
   ]
  },
  {
   "cell_type": "code",
   "execution_count": null,
   "metadata": {},
   "outputs": [],
   "source": []
  }
 ],
 "metadata": {
  "kernelspec": {
   "display_name": "Python 2",
   "language": "python",
   "name": "python2"
  },
  "language_info": {
   "codemirror_mode": {
    "name": "ipython",
    "version": 2
   },
   "file_extension": ".py",
   "mimetype": "text/x-python",
   "name": "python",
   "nbconvert_exporter": "python",
   "pygments_lexer": "ipython2",
   "version": "2.7.15"
  }
 },
 "nbformat": 4,
 "nbformat_minor": 2
}
