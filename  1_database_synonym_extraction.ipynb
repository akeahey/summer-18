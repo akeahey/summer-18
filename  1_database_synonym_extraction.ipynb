{
 "cells": [
  {
   "cell_type": "markdown",
   "metadata": {},
   "source": [
    "General:\n",
    "----------------------------------------------------------------------------------------------------------------------------\n",
    "This notebook extracts data from the databases as sentences in the form of list of tokens (or list of words).\n",
    "\n",
    "Prerequisites:\n",
    " - Download sentences.db from __FIXME__: Add public ling here\n",
    "\n",
    "Sentence processing using SpaCy:\n",
    "----------------------------------------------------------------------------------------------------------------------------\n",
    "- Remove stop words\n",
    "- Remove punctuation\n",
    "- Mask numbers e.g.: 18 --> dd, 2018-->dddd, 34.54--> dd.dd\n",
    "- Lookup word lemma and replace tokens with lemmas when they exist. \n",
    "  \"Lemmatization usually refers to doing things properly with the use of a vocabulary and morphological analysis of \n",
    "   words, normally aiming to remove inflectional endings only and to return the base or dictionary form of a word,  \n",
    "   which is known as the lemma.\" (https://nlp.stanford.edu/IR-book/html/htmledition/stemming-and-lemmatization-1.html)\n"
   ]
  },
  {
   "cell_type": "code",
   "execution_count": 1,
   "metadata": {
    "scrolled": true
   },
   "outputs": [],
   "source": [
    "# -*- coding: utf-8 -*-\n",
    "import os\n",
    "import re\n",
    "import csv\n",
    "import sys\n",
    "import glob\n",
    "# import spacy\n",
    "import errno\n",
    "import random\n",
    "import sqlite3\n",
    "import subprocess\n",
    "import pandas as pd\n",
    "import pymysql.cursors\n",
    "from random import shuffle\n",
    "from pandas import ExcelFile\n",
    "from __future__ import division\n",
    "from abbreviations import get_abbreviations\n",
    "\n",
    "# Avoid ascii error\n",
    "reload(sys)\n",
    "sys.setdefaultencoding('utf8')"
   ]
  },
  {
   "cell_type": "code",
   "execution_count": 2,
   "metadata": {},
   "outputs": [],
   "source": [
    "def prepare_directories(): \n",
    "    # FIXME: Add link to dowload db in this directory once it's created?\n",
    "    try:\n",
    "        os.mkdir(\"db\")\n",
    "    except OSError as exc:\n",
    "        if exc.errno != errno.EEXIST:\n",
    "            raise\n",
    "        pass\n",
    "    try:\n",
    "        os.mkdir(\"models\")\n",
    "    except OSError as exc:\n",
    "        if exc.errno != errno.EEXIST:\n",
    "            raise\n",
    "        pass"
   ]
  },
  {
   "cell_type": "code",
   "execution_count": 3,
   "metadata": {},
   "outputs": [],
   "source": [
    "# Create directories to store database and models\n",
    "prepare_directories()"
   ]
  },
  {
   "cell_type": "code",
   "execution_count": 4,
   "metadata": {},
   "outputs": [],
   "source": [
    "# Connect to db\n",
    "def connect_to_db():\n",
    "    database = \"db/sentences.db\"\n",
    "    conn = create_connection(database)\n",
    "    return conn"
   ]
  },
  {
   "cell_type": "code",
   "execution_count": 5,
   "metadata": {},
   "outputs": [],
   "source": [
    "# Connect to DB\n",
    "def create_connection(db_file):\n",
    "    try:\n",
    "        conn = sqlite3.connect(db_file)\n",
    "        return conn\n",
    "    except Error as e:\n",
    "        print(e)\n",
    " \n",
    "    return None"
   ]
  },
  {
   "cell_type": "code",
   "execution_count": 6,
   "metadata": {},
   "outputs": [],
   "source": [
    "def cleanup_token(tkn):\n",
    "    new_tkn = tkn.strip().strip(',').strip('.')\n",
    "    if len(new_tkn)>=2 and new_tkn[0] == '(' and new_tkn[len(new_tkn)-1]==')':\n",
    "        new_tkn=new_tkn.rstrip(')').lstrip('(')\n",
    "    return new_tkn"
   ]
  },
  {
   "cell_type": "code",
   "execution_count": 7,
   "metadata": {},
   "outputs": [],
   "source": [
    "# Get sentences\n",
    "def get_sentences_from_db(conn):\n",
    "    dictionary = {}\n",
    "    docids = []\n",
    "    cur = conn.cursor()\n",
    "    cur.execute(\"select sentence, docid from sentences where haspolys = 1\") \n",
    "    rows = cur.fetchall()\n",
    " \n",
    "    for row in rows:\n",
    "        sentence = row[0]\n",
    "        docid = row [1]\n",
    "        \n",
    "        #combine sentences with identical docids\n",
    "        if docid not in docids: \n",
    "            docids.append(docid)\n",
    "            sentences_list = list()\n",
    "            sentences_list.append(sentence)\n",
    "            dictionary[docid] = sentences_list\n",
    "            \n",
    "        else: \n",
    "            sentences_list.append(sentence)\n",
    "\n",
    "    # Returns sentences as list of tokens where each sentence is broken into words using spaces except within parenthesis\n",
    "    return dictionary"
   ]
  },
  {
   "cell_type": "code",
   "execution_count": 8,
   "metadata": {},
   "outputs": [],
   "source": [
    "# Connects to db\n",
    "connection = connect_to_db()"
   ]
  },
  {
   "cell_type": "code",
   "execution_count": 9,
   "metadata": {},
   "outputs": [],
   "source": [
    "# Gets sentences and write training and testing files\n",
    "sentences = get_sentences_from_db(connection)"
   ]
  },
  {
   "cell_type": "code",
   "execution_count": 10,
   "metadata": {},
   "outputs": [],
   "source": [
    "# Gets abbreviation-polymer pairs and returns as dictionary sorted by docid\n",
    "polymer_abbrs_dictionary = {}\n",
    "\n",
    "#gets abbreviation:polymer pair for each docid\n",
    "for key in sentences: \n",
    "    values = sentences[key]\n",
    "    abbrs = get_abbreviations(values)\n",
    "    abbreviations = abbrs.items()\n",
    "    polymer_abbrs_dictionary[key] = abbreviations"
   ]
  },
  {
   "cell_type": "code",
   "execution_count": 11,
   "metadata": {},
   "outputs": [],
   "source": [
    "#combine entries for each docid dictionary into one dictionary\n",
    "\n",
    "dictionary_values = polymer_abbrs_dictionary.values()\n",
    "dictionary3 = {}\n",
    "for item in dictionary_values: \n",
    "    dictionary2 = dict(item)\n",
    "    for key, value in dictionary2.items(): \n",
    "        dictionary3[key] = value"
   ]
  },
  {
   "cell_type": "code",
   "execution_count": 12,
   "metadata": {
    "scrolled": true
   },
   "outputs": [],
   "source": [
    "#print polymers: [every acronym found for that polymer]\n",
    "\n",
    "acronyms = {}\n",
    "polymers = list()\n",
    "for key,value in dictionary3.items():\n",
    "    abbrev = key\n",
    "    polymer = value\n",
    "    if polymer not in polymers: \n",
    "        polymers.append(polymer)\n",
    "        abbreviations = list()\n",
    "        abbreviations.append(abbrev)\n",
    "        acronyms[polymer] = abbreviations\n",
    "    else: \n",
    "        abbreviations.append(abbrev)"
   ]
  },
  {
   "cell_type": "code",
   "execution_count": 13,
   "metadata": {},
   "outputs": [],
   "source": [
    "#open file of polymer candidates/create new file\n",
    "\n",
    "f = open('input/polymer_candidates.txt','r')\n",
    "f2 = open('output/amber_polymer_candidates.txt','w+')\n",
    "F = f.readlines()"
   ]
  },
  {
   "cell_type": "code",
   "execution_count": 14,
   "metadata": {
    "scrolled": true
   },
   "outputs": [],
   "source": [
    "#format candidates\n",
    "\n",
    "candidates_list = list()\n",
    "for string in F:\n",
    "    candidates_list.append(string)\n",
    "\n",
    "formatted_strings = list()\n",
    "for string in candidates_list: \n",
    "    plain_string = string.rstrip('\\n')  \n",
    "    if \"[u'\" in plain_string: \n",
    "        plain_string = plain_string.replace(\"[u'\",\"\")\n",
    "        plain_string = plain_string.replace(\"']\",\"\")\n",
    "    else: \n",
    "        pass\n",
    "    unicode_string = plain_string.decode('utf8')\n",
    "    formatted_strings.append(unicode_string)"
   ]
  },
  {
   "cell_type": "code",
   "execution_count": 15,
   "metadata": {
    "scrolled": true
   },
   "outputs": [],
   "source": [
    "#find and record matching pairs\n",
    "\n",
    "for string in formatted_strings:\n",
    "    f2.write('%s\\n' % (string))\n",
    "    for key in acronyms: \n",
    "        if string in acronyms[key]:\n",
    "            line_acronym = '%s\\n' % (key)\n",
    "            f2.write(line_acronym)\n",
    "        if string in key: \n",
    "            mod = ''.join(acronyms[key])\n",
    "            line_polymer = '%s\\n' % (mod)\n",
    "            f2.write(line_polymer)"
   ]
  },
  {
   "cell_type": "code",
   "execution_count": 16,
   "metadata": {},
   "outputs": [],
   "source": [
    "#close files \n",
    "\n",
    "f.close()\n",
    "f2.close()"
   ]
  },
  {
   "cell_type": "raw",
   "metadata": {},
   "source": []
  }
 ],
 "metadata": {
  "kernelspec": {
   "display_name": "Python 2",
   "language": "python",
   "name": "python2"
  },
  "language_info": {
   "codemirror_mode": {
    "name": "ipython",
    "version": 2
   },
   "file_extension": ".py",
   "mimetype": "text/x-python",
   "name": "python",
   "nbconvert_exporter": "python",
   "pygments_lexer": "ipython2",
   "version": "2.7.15"
  }
 },
 "nbformat": 4,
 "nbformat_minor": 2
}
