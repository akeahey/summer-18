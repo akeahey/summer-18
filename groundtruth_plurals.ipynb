{
 "cells": [
  {
   "cell_type": "code",
   "execution_count": 1,
   "metadata": {},
   "outputs": [],
   "source": [
    "# -*- coding: utf-8 -*-\n",
    "#!/usr/bin/env python\n",
    "\n",
    "f = open('ground_truth_polymers_list.txt','r')\n",
    "f2 = open('ground_truth_polymers_list_plurals.txt','w+')\n",
    "\n",
    "F = f.readlines()"
   ]
  },
  {
   "cell_type": "code",
   "execution_count": 2,
   "metadata": {},
   "outputs": [],
   "source": [
    "#remove plurals from groundtruth file \n",
    "\n",
    "for string in F: \n",
    "    if \")s\" in string: \n",
    "        if \"[\" not in string: \n",
    "            new_string = string.replace(\")s\",\")\")\n",
    "            f2.write(new_string)\n",
    "        else: \n",
    "            pass\n",
    "    else: \n",
    "        f2.write(string)"
   ]
  },
  {
   "cell_type": "code",
   "execution_count": 3,
   "metadata": {},
   "outputs": [],
   "source": [
    "#close files\n",
    "\n",
    "f.close()\n",
    "f2.close()"
   ]
  }
 ],
 "metadata": {
  "kernelspec": {
   "display_name": "Python 2",
   "language": "python",
   "name": "python2"
  },
  "language_info": {
   "codemirror_mode": {
    "name": "ipython",
    "version": 2
   },
   "file_extension": ".py",
   "mimetype": "text/x-python",
   "name": "python",
   "nbconvert_exporter": "python",
   "pygments_lexer": "ipython2",
   "version": "2.7.15"
  }
 },
 "nbformat": 4,
 "nbformat_minor": 2
}
