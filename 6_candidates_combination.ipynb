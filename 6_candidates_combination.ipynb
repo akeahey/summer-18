{
 "cells": [
  {
   "cell_type": "markdown",
   "metadata": {},
   "source": [
    "### candidates_combination\n",
    "\n",
    "Combines two products of augmented_keywords:\n",
    "\n",
    "* input/scraped_polymer_names.txt > output/FT_candidates_500.txt\n",
    "\n",
    "* data/expert_curated_polymers.csv > output/second_FT_candidates_500.txt"
   ]
  },
  {
   "cell_type": "code",
   "execution_count": 1,
   "metadata": {},
   "outputs": [],
   "source": [
    "# -*- coding: utf-8 -*-\n",
    "import os\n",
    "import re\n",
    "import csv\n",
    "import sys\n",
    "import glob\n",
    "import errno\n",
    "import random\n",
    "import sqlite3\n",
    "import subprocess\n",
    "import pandas as pd\n",
    "import pymysql.cursors\n",
    "import gensim, logging\n",
    "from __future__ import division\n",
    "from gensim.models import FastText\n",
    "from gensim.models import Word2Vec\n",
    "from gensim.models import KeyedVectors\n",
    "from abbreviations import get_abbreviations"
   ]
  },
  {
   "cell_type": "code",
   "execution_count": 2,
   "metadata": {},
   "outputs": [],
   "source": [
    "f = open('output/second_FT_candidates_500.txt','r')\n",
    "f2 = open('output/FT_candidates_500.txt', 'r')\n",
    "f3 = open('output/combined_500_candidates.txt','w+')\n",
    "F = f.readlines()\n",
    "F2 = f2.readlines()"
   ]
  },
  {
   "cell_type": "code",
   "execution_count": 3,
   "metadata": {},
   "outputs": [],
   "source": [
    "candidates_list = list()\n",
    "\n",
    "for string in F: \n",
    "    candidates_list.append(string)\n",
    "    \n",
    "for string in F2: \n",
    "    if string in candidates_list: \n",
    "        pass\n",
    "    else: \n",
    "        candidates_list.append(string)\n",
    "        "
   ]
  },
  {
   "cell_type": "code",
   "execution_count": 4,
   "metadata": {},
   "outputs": [],
   "source": [
    "for string in candidates_list:\n",
    "    f3.write('%s\\n' % (string))"
   ]
  },
  {
   "cell_type": "code",
   "execution_count": 5,
   "metadata": {},
   "outputs": [],
   "source": [
    "#close files \n",
    "\n",
    "f.close()\n",
    "f2.close()\n",
    "f3.close()"
   ]
  }
 ],
 "metadata": {
  "kernelspec": {
   "display_name": "Python 2",
   "language": "python",
   "name": "python2"
  },
  "language_info": {
   "codemirror_mode": {
    "name": "ipython",
    "version": 2
   },
   "file_extension": ".py",
   "mimetype": "text/x-python",
   "name": "python",
   "nbconvert_exporter": "python",
   "pygments_lexer": "ipython2",
   "version": "2.7.15"
  }
 },
 "nbformat": 4,
 "nbformat_minor": 2
}
