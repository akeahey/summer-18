{
 "cells": [
  {
   "cell_type": "code",
   "execution_count": 1,
   "metadata": {},
   "outputs": [],
   "source": [
    "# -*- coding: utf-8 -*-\n",
    "import os\n",
    "import re\n",
    "import csv\n",
    "import sys\n",
    "import glob\n",
    "import errno\n",
    "import random\n",
    "import sqlite3\n",
    "import subprocess\n",
    "import pandas as pd\n",
    "import pymysql.cursors\n",
    "import gensim, logging\n",
    "from __future__ import division\n",
    "from gensim.models import FastText\n",
    "from gensim.models import Word2Vec\n",
    "from gensim.models import KeyedVectors\n",
    "from abbreviations import get_abbreviations"
   ]
  },
  {
   "cell_type": "code",
   "execution_count": 2,
   "metadata": {},
   "outputs": [],
   "source": [
    "# Connect to db\n",
    "def connect_to_db():\n",
    "    database = \"db/sentences.db\"\n",
    "    conn = create_connection(database)\n",
    "    return conn"
   ]
  },
  {
   "cell_type": "code",
   "execution_count": 3,
   "metadata": {},
   "outputs": [],
   "source": [
    "# Connect to DB\n",
    "def create_connection(db_file):\n",
    "    try:\n",
    "        conn = sqlite3.connect(db_file)\n",
    "        return conn\n",
    "    except Error as e:\n",
    "        print(e)\n",
    " \n",
    "    return None"
   ]
  },
  {
   "cell_type": "code",
   "execution_count": 4,
   "metadata": {},
   "outputs": [],
   "source": [
    "#cleanup tokens\n",
    "def cleanup_token(tkn):\n",
    "    new_tkn = tkn.strip().strip(',').strip('.')\n",
    "    if len(new_tkn)>=2 and new_tkn[0] == '(' and new_tkn[len(new_tkn)-1]==')':\n",
    "        new_tkn=new_tkn.rstrip(')').lstrip('(')\n",
    "    return new_tkn"
   ]
  },
  {
   "cell_type": "code",
   "execution_count": 5,
   "metadata": {},
   "outputs": [],
   "source": [
    "def get_sentences_from_db(conn):\n",
    "    sentences = []\n",
    "    cur = conn.cursor()\n",
    "    cur.execute(\"select sentence, haspolys, id, docid, processed_sentence from sentences\")\n",
    "    rows = cur.fetchall()\n",
    "    for row in rows:\n",
    "        # Use regex to preserve spaces between parentheses\n",
    "        #sentences.append(row[0].rstrip(\".\").split())\n",
    "        tokens = re.split(r\"\\s+(?=[^()]*(?:\\(|$))\", row[0].rstrip(\".\"))\n",
    "        new_tokens = list(map(lambda token:cleanup_token(token),tokens))\n",
    "        sentences.append(new_tokens)\n",
    "    return sentences"
   ]
  },
  {
   "cell_type": "code",
   "execution_count": 6,
   "metadata": {},
   "outputs": [],
   "source": [
    "def get_sentences_for_dois(doi,conn):\n",
    "    sentences = []\n",
    "    cur = conn.cursor()\n",
    "    query = \"select sentence from sentences where docid='%s'\" % (doi)\n",
    "    cur.execute(query)\n",
    "    rows = cur.fetchall()\n",
    "    for row in rows:\n",
    "        # Use regex to preserve spaces between parentheses\n",
    "        #sentences.append(row[0].rstrip(\".\").split())\n",
    "        #tokens = re.split(r\"\\s+(?=[^()]*(?:\\(|$))\", row[0].rstrip(\".\"))\n",
    "        #new_tokens = list(map(lambda token:cleanup_token(token),tokens))\n",
    "        #sentences.append(new_tokens)\n",
    "        sentences.append(row[0].rstrip(\".\"))\n",
    "\n",
    "    return sentences"
   ]
  },
  {
   "cell_type": "code",
   "execution_count": 7,
   "metadata": {},
   "outputs": [],
   "source": [
    "def generate_gensim_model(modeltype, sentences):\n",
    "    if modeltype == 'skipgram': \n",
    "        model = gensim.models.Word2Vec(sentences, min_count=1, sg=1, sorted_vocab=1)\n",
    "        modelname = \"models/gensim_skipgram.bin\"\n",
    "    elif modeltype == 'cbow':\n",
    "        model = gensim.models.Word2Vec(sentences, min_count=1, sorted_vocab=1)\n",
    "        modelname = \"models/gensim_cbow.bin\"\n",
    "    else:\n",
    "        print('Unknown model type: %s' % modeltype)\n",
    "        return(None)       \n",
    "    model.save(modelname)\n",
    "    return model"
   ]
  },
  {
   "cell_type": "code",
   "execution_count": 8,
   "metadata": {},
   "outputs": [],
   "source": [
    "# Load gensim model\n",
    "def load_gensim_model(modeltype):\n",
    "    if modeltype == 'cbow':\n",
    "        model_file = './models/gensim_cbow.bin'\n",
    "        if os.path.exists(model_file):\n",
    "            model = gensim.models.Word2Vec.load(model_file)\n",
    "        else:\n",
    "            print('Model file does not exist: %s' % model_file)\n",
    "    elif modeltype == 'skipgram':\n",
    "        model_file = './models/gensim_skipgram.bin'\n",
    "        if os.path.exists(model_file):\n",
    "            model = gensim.models.Word2Vec.load(model_file)\n",
    "        else:\n",
    "            print('Model file does not exist: %s' % model_file)\n",
    "    else:\n",
    "        print('Unknown model type: %s' % modeltype)\n",
    "        return(None)\n",
    "    return model"
   ]
  },
  {
   "cell_type": "code",
   "execution_count": 9,
   "metadata": {},
   "outputs": [],
   "source": [
    "regenerate_gensim_model_flag = False\n",
    "model_type = 'cbow'"
   ]
  },
  {
   "cell_type": "code",
   "execution_count": 10,
   "metadata": {},
   "outputs": [],
   "source": [
    "# Generate or load gensim model. \n",
    "if regenerate_gensim_model_flag:\n",
    "    # Connect to db\n",
    "    connection = connect_to_db()\n",
    "    # Get sentences from db\n",
    "    sentences = get_sentences_from_db(connection)\n",
    "    print len(sentences)\n",
    "    model = generate_gensim_model(model_type, sentences)\n",
    "else:\n",
    "    model = load_gensim_model(model_type)\n",
    "    \n",
    "labels = list(model.wv.vocab) \n"
   ]
  },
  {
   "cell_type": "code",
   "execution_count": 11,
   "metadata": {},
   "outputs": [],
   "source": [
    "def get_polymers(doi_input_file, entire_document):\n",
    "#     # Most frequent polymer is polystyrene, we compare words vectors in sentences to 3 forms of this polymer name\n",
    "#     frequent_polymers = [\"polystyrene\",\"poly(styrene)\",\"PS\"]\n",
    "#     print('Using these frequent polymers: %s' % str(frequent_polymers))\n",
    "#     #frequent_polymers = [\"polystyrene\",\"PS\",\"poly(methyl methacrylate)\"]\n",
    "    \n",
    "    # Open ground truth document\n",
    "    #f = open('evaluation/classifier_dois.txt','rb')\n",
    "    f = open(doi_input_file,'rb')\n",
    "    lines = f.readlines()\n",
    "    print('Processing %d documents as listed in %s' % (len(lines), doi_input_file))\n",
    "    sentences2 = []\n",
    "    connection = connect_to_db()\n",
    "    \n",
    "    # Process line in prediction file\n",
    "    for line in lines:\n",
    "\n",
    "        # Read the doi\n",
    "        doi = line.split(\"\\t\")[0].strip(\"\\n\")\n",
    "         \n",
    "        if entire_document == 1:\n",
    "            sentences = get_sentences_for_dois(doi,connection)\n",
    "            \n",
    "        for sentence in sentences: \n",
    "            sentences2.append(sentence)\n",
    "\n",
    "    return sentences2"
   ]
  },
  {
   "cell_type": "code",
   "execution_count": 12,
   "metadata": {},
   "outputs": [
    {
     "name": "stdout",
     "output_type": "stream",
     "text": [
      "Processing 50 documents as listed in data/classifier_dois.txt\n"
     ]
    }
   ],
   "source": [
    "#get sentences from documents\n",
    "sentences_list = get_polymers('data/classifier_dois.txt', 1)"
   ]
  },
  {
   "cell_type": "code",
   "execution_count": 13,
   "metadata": {},
   "outputs": [],
   "source": [
    "#get dictionary of abbreviations:polymers\n",
    "abbrs = get_abbreviations(sentences_list)"
   ]
  },
  {
   "cell_type": "code",
   "execution_count": 14,
   "metadata": {
    "scrolled": true
   },
   "outputs": [
    {
     "name": "stderr",
     "output_type": "stream",
     "text": [
      "/anaconda2/lib/python2.7/site-packages/gensim/matutils.py:737: FutureWarning: Conversion of the second argument of issubdtype from `int` to `np.signedinteger` is deprecated. In future, it will be treated as `np.int64 == np.dtype(int).type`.\n",
      "  if np.issubdtype(vec.dtype, np.int):\n"
     ]
    },
    {
     "name": "stdout",
     "output_type": "stream",
     "text": [
      "129\n",
      "20\n",
      "0.15503875969\n"
     ]
    }
   ],
   "source": [
    "#TR is total polymers that are in both vocabulary and longnames\n",
    "TP = 0\n",
    "#S is if acronym is found in most similar words\n",
    "S = 0\n",
    "\n",
    "\n",
    "#determine how often acronym is found as a most similar word\n",
    "for key in abbrs.keys(): \n",
    "    longname = abbrs[key]\n",
    "    if longname in labels: \n",
    "        TP = TP + 1\n",
    "        most_similar_results = model.wv.most_similar(positive=longname, topn = 10)        \n",
    "        for item in most_similar_results: \n",
    "            if key in item: \n",
    "                S = S + 1                \n",
    "P = S/TP\n",
    "\n",
    "\n",
    "print(TP)\n",
    "print(S)\n",
    "print(P)"
   ]
  },
  {
   "cell_type": "code",
   "execution_count": null,
   "metadata": {},
   "outputs": [],
   "source": []
  }
 ],
 "metadata": {
  "kernelspec": {
   "display_name": "Python 2",
   "language": "python",
   "name": "python2"
  },
  "language_info": {
   "codemirror_mode": {
    "name": "ipython",
    "version": 2
   },
   "file_extension": ".py",
   "mimetype": "text/x-python",
   "name": "python",
   "nbconvert_exporter": "python",
   "pygments_lexer": "ipython2",
   "version": "2.7.15"
  }
 },
 "nbformat": 4,
 "nbformat_minor": 2
}
