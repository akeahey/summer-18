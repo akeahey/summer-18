{
 "cells": [
  {
   "cell_type": "markdown",
   "metadata": {},
   "source": [
    "General:\n",
    "----------------------------------------------------------------------------------------------------------------------------\n",
    "This notebook extracts data from the databases as sentences in the form of list of tokens (or list of words).\n",
    "\n",
    "Prerequisites:\n",
    " - Download sentences.db from __FIXME__: Add public ling here\n",
    "\n",
    "Sentence processing using SpaCy:\n",
    "----------------------------------------------------------------------------------------------------------------------------\n",
    "- Remove stop words\n",
    "- Remove punctuation\n",
    "- Mask numbers e.g.: 18 --> dd, 2018-->dddd, 34.54--> dd.dd\n",
    "- Lookup word lemma and replace tokens with lemmas when they exist. \n",
    "  \"Lemmatization usually refers to doing things properly with the use of a vocabulary and morphological analysis of \n",
    "   words, normally aiming to remove inflectional endings only and to return the base or dictionary form of a word,  \n",
    "   which is known as the lemma.\" (https://nlp.stanford.edu/IR-book/html/htmledition/stemming-and-lemmatization-1.html)\n"
   ]
  },
  {
   "cell_type": "code",
   "execution_count": 11,
   "metadata": {
    "scrolled": true
   },
   "outputs": [],
   "source": [
    "# -*- coding: utf-8 -*-\n",
    "import os\n",
    "import re\n",
    "import errno\n",
    "import random\n",
    "import sqlite3\n",
    "import subprocess\n",
    "import pymysql.cursors\n",
    "from random import shuffle\n",
    "from __future__ import division\n",
    "\n",
    "# Store unique documents\n",
    "dois = set()"
   ]
  },
  {
   "cell_type": "code",
   "execution_count": 12,
   "metadata": {},
   "outputs": [],
   "source": [
    "def prepare_directories(): \n",
    "    # FIXME: Add link to dowload db in this directory once it's created?\n",
    "    try:\n",
    "        os.mkdir(\"db\")\n",
    "    except OSError as exc:\n",
    "        if exc.errno != errno.EEXIST:\n",
    "            raise\n",
    "        pass\n",
    "    try:\n",
    "        os.mkdir(\"models\")\n",
    "    except OSError as exc:\n",
    "        if exc.errno != errno.EEXIST:\n",
    "            raise\n",
    "        pass"
   ]
  },
  {
   "cell_type": "code",
   "execution_count": 13,
   "metadata": {},
   "outputs": [],
   "source": [
    "# Create directories to store database and models\n",
    "prepare_directories()"
   ]
  },
  {
   "cell_type": "code",
   "execution_count": null,
   "metadata": {},
   "outputs": [],
   "source": [
    "# Connect to db\n",
    "def connect_to_db():\n",
    "    database = \"db/sentences.db\"\n",
    "    conn = create_connection(database)\n",
    "    return conn"
   ]
  },
  {
   "cell_type": "code",
   "execution_count": null,
   "metadata": {},
   "outputs": [],
   "source": [
    "# Connect to DB\n",
    "def create_connection(db_file):\n",
    "    try:\n",
    "        conn = sqlite3.connect(db_file)\n",
    "        return conn\n",
    "    except Error as e:\n",
    "        print(e)\n",
    " \n",
    "    return None"
   ]
  },
  {
   "cell_type": "code",
   "execution_count": null,
   "metadata": {},
   "outputs": [],
   "source": [
    "def cleanup_token(tkn):\n",
    "    new_tkn = tkn.strip().strip(',').strip('.')\n",
    "    if len(new_tkn)>=2 and new_tkn[0] == '(' and new_tkn[len(new_tkn)-1]==')':\n",
    "        new_tkn=new_tkn.rstrip(')').lstrip('(')\n",
    "    return new_tkn"
   ]
  },
  {
   "cell_type": "code",
   "execution_count": null,
   "metadata": {},
   "outputs": [],
   "source": [
    "# Get sentences\n",
    "def get_sentences_from_db(conn):\n",
    "    sentences = {}\n",
    "    cur = conn.cursor()\n",
    "    cur.execute(\"select sentence, haspolys, id, docid, processed_sentence from sentences\") \n",
    "    rows = cur.fetchall()\n",
    " \n",
    "    for row in rows:\n",
    "        # Use regex to preserve spaces between parentheses\n",
    "        tokens = re.split(r\"\\s+(?=[^()]*(?:\\(|$))\", row[0].rstrip(\".\"))\n",
    "        new_tokens = list(map(lambda token:cleanup_token(token),tokens))\n",
    "        sentences.append(new_tokens)\n",
    "\n",
    "    # Returns sentences as list of tokens where each sentence is broken into words using spaces except within parenthesis\n",
    "    return sentences\n",
    "\n",
    "# Same some sentences for validation"
   ]
  },
  {
   "cell_type": "code",
   "execution_count": null,
   "metadata": {},
   "outputs": [],
   "source": [
    "# Connects to db\n",
    "connection = connect_to_db()"
   ]
  },
  {
   "cell_type": "code",
   "execution_count": null,
   "metadata": {},
   "outputs": [],
   "source": [
    "# Gets sentences and write training and testing files\n",
    "sentences = get_sentences_from_db(connection)"
   ]
  },
  {
   "cell_type": "code",
   "execution_count": null,
   "metadata": {},
   "outputs": [],
   "source": []
  }
 ],
 "metadata": {
  "kernelspec": {
   "display_name": "Python 2",
   "language": "python",
   "name": "python2"
  },
  "language_info": {
   "codemirror_mode": {
    "name": "ipython",
    "version": 2
   },
   "file_extension": ".py",
   "mimetype": "text/x-python",
   "name": "python",
   "nbconvert_exporter": "python",
   "pygments_lexer": "ipython2",
   "version": "2.7.13"
  }
 },
 "nbformat": 4,
 "nbformat_minor": 2
}
